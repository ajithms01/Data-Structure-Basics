{
  "nbformat": 4,
  "nbformat_minor": 0,
  "metadata": {
    "colab": {
      "provenance": [],
      "authorship_tag": "ABX9TyO0pWlnZUiP8xnAgEUHk0sV",
      "include_colab_link": true
    },
    "kernelspec": {
      "name": "python3",
      "display_name": "Python 3"
    },
    "language_info": {
      "name": "python"
    }
  },
  "cells": [
    {
      "cell_type": "markdown",
      "metadata": {
        "id": "view-in-github",
        "colab_type": "text"
      },
      "source": [
        "<a href=\"https://colab.research.google.com/github/ajithms01/Data-Structure-Basics/blob/main/Untitled3.ipynb\" target=\"_parent\"><img src=\"https://colab.research.google.com/assets/colab-badge.svg\" alt=\"Open In Colab\"/></a>"
      ]
    },
    {
      "cell_type": "code",
      "execution_count": null,
      "metadata": {
        "id": "s9y_re2tc5_y"
      },
      "outputs": [],
      "source": [
        "#set functions"
      ]
    },
    {
      "cell_type": "code",
      "source": [
        "thisset={'apple','banana','cherry'}\n",
        "print(\"banana\" in thisset)"
      ],
      "metadata": {
        "colab": {
          "base_uri": "https://localhost:8080/"
        },
        "id": "9lOjBIlDgKE8",
        "outputId": "32f44a6f-d398-4743-b32b-beb8e98992d5"
      },
      "execution_count": null,
      "outputs": [
        {
          "output_type": "stream",
          "name": "stdout",
          "text": [
            "True\n"
          ]
        }
      ]
    },
    {
      "cell_type": "code",
      "source": [
        "thisset.add('orange')"
      ],
      "metadata": {
        "id": "k3cPAdJDgyqK"
      },
      "execution_count": null,
      "outputs": []
    },
    {
      "cell_type": "code",
      "source": [
        "thisset\n"
      ],
      "metadata": {
        "colab": {
          "base_uri": "https://localhost:8080/"
        },
        "id": "OtuPvXFDhHIE",
        "outputId": "7c827021-1fe6-4473-dad4-70534c72624d"
      },
      "execution_count": null,
      "outputs": [
        {
          "output_type": "execute_result",
          "data": {
            "text/plain": [
              "{'apple', 'banana', 'cherry', 'orange'}"
            ]
          },
          "metadata": {},
          "execution_count": 4
        }
      ]
    },
    {
      "cell_type": "code",
      "source": [
        "tropical=('pineappe','mango','papaya')\n",
        "thisset.update(tropical)\n",
        "print"
      ],
      "metadata": {
        "colab": {
          "base_uri": "https://localhost:8080/"
        },
        "id": "bNSvvp8XhL9D",
        "outputId": "9e31cb61-580d-4ae0-b0ef-2dd2cc2b9871"
      },
      "execution_count": null,
      "outputs": [
        {
          "output_type": "execute_result",
          "data": {
            "text/plain": [
              "<function print>"
            ]
          },
          "metadata": {},
          "execution_count": 5
        }
      ]
    },
    {
      "cell_type": "code",
      "source": [
        "thisset.clear"
      ],
      "metadata": {
        "colab": {
          "base_uri": "https://localhost:8080/"
        },
        "id": "slJtj8JzinIB",
        "outputId": "957689bd-f112-4b10-bf05-ab0bc7174643"
      },
      "execution_count": null,
      "outputs": [
        {
          "output_type": "execute_result",
          "data": {
            "text/plain": [
              "<function set.clear>"
            ]
          },
          "metadata": {},
          "execution_count": 6
        }
      ]
    },
    {
      "cell_type": "code",
      "source": [
        "thisset"
      ],
      "metadata": {
        "colab": {
          "base_uri": "https://localhost:8080/"
        },
        "id": "sBwx9buviq1R",
        "outputId": "69e23a69-7eea-44f1-c4c6-0d6e64ebd656"
      },
      "execution_count": null,
      "outputs": [
        {
          "output_type": "execute_result",
          "data": {
            "text/plain": [
              "{'apple', 'banana', 'cherry', 'mango', 'orange', 'papaya', 'pineappe'}"
            ]
          },
          "metadata": {},
          "execution_count": 7
        }
      ]
    },
    {
      "cell_type": "code",
      "source": [
        "thisset.remove('banana')\n",
        "print(thisset)"
      ],
      "metadata": {
        "colab": {
          "base_uri": "https://localhost:8080/"
        },
        "id": "bQ9_HH8_h03d",
        "outputId": "a8905b65-e9f5-4d0c-b97e-b3fb666d8b10"
      },
      "execution_count": null,
      "outputs": [
        {
          "output_type": "stream",
          "name": "stdout",
          "text": [
            "{'pineappe', 'apple', 'orange', 'cherry', 'mango', 'papaya'}\n"
          ]
        }
      ]
    },
    {
      "cell_type": "code",
      "source": [
        "del thisset"
      ],
      "metadata": {
        "id": "QqVkxRQliv9x"
      },
      "execution_count": null,
      "outputs": []
    },
    {
      "cell_type": "code",
      "source": [
        "#dictionary in python (key,value)"
      ],
      "metadata": {
        "id": "UQm-mNJLkPgB"
      },
      "execution_count": null,
      "outputs": []
    },
    {
      "cell_type": "code",
      "source": [
        "data={1:'hello',2:'hai',8:'arun'}"
      ],
      "metadata": {
        "id": "DQ3xS8FmkZzw"
      },
      "execution_count": null,
      "outputs": []
    },
    {
      "cell_type": "code",
      "source": [
        "data"
      ],
      "metadata": {
        "colab": {
          "base_uri": "https://localhost:8080/"
        },
        "id": "9bBuPAePkoQQ",
        "outputId": "72f1e812-7f1b-44e8-9153-5cc571367527"
      },
      "execution_count": null,
      "outputs": [
        {
          "output_type": "execute_result",
          "data": {
            "text/plain": [
              "{1: 'hello', 2: 'hai', 8: 'arun'}"
            ]
          },
          "metadata": {},
          "execution_count": 12
        }
      ]
    },
    {
      "cell_type": "code",
      "source": [
        "data[1]"
      ],
      "metadata": {
        "colab": {
          "base_uri": "https://localhost:8080/"
        },
        "id": "-3hbkX86kqPQ",
        "outputId": "c34e0b11-f372-4232-8c5c-e9506bacd15f"
      },
      "execution_count": null,
      "outputs": [
        {
          "output_type": "execute_result",
          "data": {
            "text/plain": [
              "'hello'"
            ],
            "application/vnd.google.colaboratory.intrinsic+json": {
              "type": "string"
            }
          },
          "metadata": {},
          "execution_count": 13
        }
      ]
    },
    {
      "cell_type": "code",
      "source": [
        "data.get(1)"
      ],
      "metadata": {
        "colab": {
          "base_uri": "https://localhost:8080/"
        },
        "id": "WRoycuKHk6mA",
        "outputId": "fa58fcfd-349b-4ded-ae7a-a4b4e6161038"
      },
      "execution_count": null,
      "outputs": [
        {
          "output_type": "execute_result",
          "data": {
            "text/plain": [
              "'hello'"
            ],
            "application/vnd.google.colaboratory.intrinsic+json": {
              "type": "string"
            }
          },
          "metadata": {},
          "execution_count": 15
        }
      ]
    },
    {
      "cell_type": "code",
      "source": [
        "keys=['hello','hai','arun']\n",
        "values=['python','java','js']"
      ],
      "metadata": {
        "id": "eO2Otl6NlF2g"
      },
      "execution_count": null,
      "outputs": []
    },
    {
      "cell_type": "code",
      "source": [
        "data=dict(zip(keys,values))\n",
        "print(data)"
      ],
      "metadata": {
        "colab": {
          "base_uri": "https://localhost:8080/"
        },
        "id": "-HAxtPyzlfSZ",
        "outputId": "aa111390-1491-40d1-b258-6c651f3e24d7"
      },
      "execution_count": null,
      "outputs": [
        {
          "output_type": "stream",
          "name": "stdout",
          "text": [
            "{'hello': 'python', 'hai': 'java', 'arun': 'js'}\n"
          ]
        }
      ]
    },
    {
      "cell_type": "code",
      "source": [
        "prog={'js':'atom','python':['pycharm','sublime']}"
      ],
      "metadata": {
        "id": "5PI85fexlu65"
      },
      "execution_count": null,
      "outputs": []
    },
    {
      "cell_type": "code",
      "source": [
        "prog['python'][1]"
      ],
      "metadata": {
        "colab": {
          "base_uri": "https://localhost:8080/"
        },
        "id": "s0SWpu4jmEGy",
        "outputId": "a5031adf-d29b-4ce5-8f07-f0c36262aebd"
      },
      "execution_count": 22,
      "outputs": [
        {
          "output_type": "execute_result",
          "data": {
            "text/plain": [
              "'sublime'"
            ],
            "application/vnd.google.colaboratory.intrinsic+json": {
              "type": "string"
            }
          },
          "metadata": {},
          "execution_count": 22
        }
      ]
    },
    {
      "cell_type": "code",
      "source": [
        "if False:\n",
        "  x=9\n",
        "  r=x%2\n",
        "  if r==0:\n",
        "    print(\"even\")\n",
        "  if r==1:\n",
        "    print('odd')\n",
        "print(\"bye\")"
      ],
      "metadata": {
        "colab": {
          "base_uri": "https://localhost:8080/"
        },
        "id": "UlCXtSWwnT7P",
        "outputId": "c8f700fd-8169-43e4-fedf-cfdc2fcf9cf0"
      },
      "execution_count": 23,
      "outputs": [
        {
          "output_type": "stream",
          "name": "stdout",
          "text": [
            "bye\n"
          ]
        }
      ]
    },
    {
      "cell_type": "code",
      "source": [
        "if True:\n",
        "  x=9\n",
        "  r=x%2\n",
        "  if r==0:\n",
        "    print(\"even\")\n",
        "  if r==1:\n",
        "    print('odd')\n",
        "print(\"bye\")"
      ],
      "metadata": {
        "colab": {
          "base_uri": "https://localhost:8080/"
        },
        "id": "01o1C0vNn80o",
        "outputId": "d7b86e8b-6327-45b6-80a9-96bad4e31596"
      },
      "execution_count": 24,
      "outputs": [
        {
          "output_type": "stream",
          "name": "stdout",
          "text": [
            "odd\n",
            "bye\n"
          ]
        }
      ]
    },
    {
      "cell_type": "code",
      "source": [
        "x=1\n",
        "if(x==1):\n",
        "  print(\"one\")\n",
        "elif(x==2):\n",
        "  print(\"two\")\n",
        "elif(x==3):\n",
        "  print(\"three\")\n",
        "else:\n",
        "  print('Not an input')"
      ],
      "metadata": {
        "colab": {
          "base_uri": "https://localhost:8080/"
        },
        "id": "4eAggkJJoN-e",
        "outputId": "5d692d99-9d61-4043-9df0-d6f2cf1c59bc"
      },
      "execution_count": 25,
      "outputs": [
        {
          "output_type": "stream",
          "name": "stdout",
          "text": [
            "one\n"
          ]
        }
      ]
    },
    {
      "cell_type": "code",
      "source": [
        "#looping statements\n",
        "#while and for"
      ],
      "metadata": {
        "id": "LDGl7EgFpLvP"
      },
      "execution_count": 26,
      "outputs": []
    },
    {
      "cell_type": "code",
      "source": [
        "i=0\n",
        "while(i<=5):\n",
        "  print('hello')\n",
        "  i=i+1"
      ],
      "metadata": {
        "colab": {
          "base_uri": "https://localhost:8080/"
        },
        "id": "GPR_17m-pUTn",
        "outputId": "4bd3c6d6-8014-4a11-8b98-2c00f4f48f5e"
      },
      "execution_count": 27,
      "outputs": [
        {
          "output_type": "stream",
          "name": "stdout",
          "text": [
            "hello\n",
            "hello\n",
            "hello\n",
            "hello\n",
            "hello\n",
            "hello\n"
          ]
        }
      ]
    },
    {
      "cell_type": "code",
      "source": [
        "i=5\n",
        "j=1\n",
        "while(i>=1):\n",
        "  print(\"hello\")\n",
        "  while(j<=4):\n",
        "    print('hai')\n",
        "    j=j+1\n",
        "  i=i-1"
      ],
      "metadata": {
        "colab": {
          "base_uri": "https://localhost:8080/"
        },
        "id": "zH8WINbwp0XH",
        "outputId": "3d28b5b6-060d-41c4-943e-9406b995136c"
      },
      "execution_count": 28,
      "outputs": [
        {
          "output_type": "stream",
          "name": "stdout",
          "text": [
            "hello\n",
            "hai\n",
            "hai\n",
            "hai\n",
            "hai\n",
            "hello\n",
            "hello\n",
            "hello\n",
            "hello\n"
          ]
        }
      ]
    }
  ]
}